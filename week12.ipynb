{
  "nbformat": 4,
  "nbformat_minor": 0,
  "metadata": {
    "colab": {
      "name": "week12",
      "provenance": [],
      "toc_visible": true,
      "authorship_tag": "ABX9TyOll41rmNxcW1YCb0IVhJk5",
      "include_colab_link": true
    },
    "kernelspec": {
      "name": "python3",
      "display_name": "Python 3"
    }
  },
  "cells": [
    {
      "cell_type": "markdown",
      "metadata": {
        "id": "view-in-github",
        "colab_type": "text"
      },
      "source": [
        "<a href=\"https://colab.research.google.com/github/lile55555/computational-thinkin-and-program-design/blob/master/week12.ipynb\" target=\"_parent\"><img src=\"https://colab.research.google.com/assets/colab-badge.svg\" alt=\"Open In Colab\"/></a>"
      ]
    },
    {
      "cell_type": "markdown",
      "metadata": {
        "id": "QWjwqUT9ROCY",
        "colab_type": "text"
      },
      "source": [
        "#**Week12 Homework** "
      ]
    },
    {
      "cell_type": "code",
      "metadata": {
        "id": "9gDDmF6q26u1",
        "colab_type": "code",
        "colab": {
          "base_uri": "https://localhost:8080/",
          "height": 151
        },
        "outputId": "3a161b3a-f7a6-4340-e161-b777a9b0262e"
      },
      "source": [
        "x = int(input(\"請輸入起始的正整數：\"))\n",
        "y = int(input(\"請輸入終止的正整數：\"))\n",
        "for i in range(x, y + 1):\n",
        "    if i % 2:\n",
        "        print(i)"
      ],
      "execution_count": 58,
      "outputs": [
        {
          "output_type": "stream",
          "text": [
            "請輸入起始的正整數：55\n",
            "請輸入終止的正整數：66\n",
            "55\n",
            "57\n",
            "59\n",
            "61\n",
            "63\n",
            "65\n"
          ],
          "name": "stdout"
        }
      ]
    },
    {
      "cell_type": "code",
      "metadata": {
        "id": "86PpGMwq27QP",
        "colab_type": "code",
        "colab": {
          "base_uri": "https://localhost:8080/",
          "height": 67
        },
        "outputId": "929cef95-9b28-4b3f-cfff-8710ed3ff7ef"
      },
      "source": [
        "x = int(input(\"請輸入起始的正整數：\"))\n",
        "y = int(input(\"請輸入終止的正整數：\"))\n",
        "odds_cnt = 0\n",
        "for i in range(x, y + 1):\n",
        "    if i % 2:\n",
        "        odds_cnt += 1\n",
        "print(odds_cnt)"
      ],
      "execution_count": 60,
      "outputs": [
        {
          "output_type": "stream",
          "text": [
            "請輸入起始的正整數：55\n",
            "請輸入終止的正整數：66\n",
            "6\n"
          ],
          "name": "stdout"
        }
      ]
    },
    {
      "cell_type": "code",
      "metadata": {
        "id": "aM2tFwVZ3A6B",
        "colab_type": "code",
        "colab": {
          "base_uri": "https://localhost:8080/",
          "height": 67
        },
        "outputId": "fb980a47-fddf-4530-cabb-27e620a33156"
      },
      "source": [
        "x = int(input(\"請輸入起始的正整數：\"))\n",
        "y = int(input(\"請輸入終止的正整數：\"))\n",
        "odds_sum = 0\n",
        "for i in range(x, y + 1):\n",
        "    if i % 2:\n",
        "        odds_sum += i\n",
        "print(odds_sum)"
      ],
      "execution_count": 61,
      "outputs": [
        {
          "output_type": "stream",
          "text": [
            "請輸入起始的正整數：55\n",
            "請輸入終止的正整數：66\n",
            "360\n"
          ],
          "name": "stdout"
        }
      ]
    },
    {
      "cell_type": "code",
      "metadata": {
        "id": "wuk7TPV03Ia-",
        "colab_type": "code",
        "colab": {
          "base_uri": "https://localhost:8080/",
          "height": 67
        },
        "outputId": "496b5f9c-69ad-4a19-e0ec-23478a689b5c"
      },
      "source": [
        "x = int(input(\"請輸入起始的正整數：\"))\n",
        "y = int(input(\"請輸入終止的正整數：\"))\n",
        "odds = []\n",
        "for i in range(x, y + 1):\n",
        "    if i % 2:\n",
        "        odds.append(i)\n",
        "print(odds)"
      ],
      "execution_count": 62,
      "outputs": [
        {
          "output_type": "stream",
          "text": [
            "請輸入起始的正整數：55\n",
            "請輸入終止的正整數：66\n",
            "[55, 57, 59, 61, 63, 65]\n"
          ],
          "name": "stdout"
        }
      ]
    },
    {
      "cell_type": "code",
      "metadata": {
        "id": "oZgGX_QE3NCP",
        "colab_type": "code",
        "colab": {
          "base_uri": "https://localhost:8080/",
          "height": 34
        },
        "outputId": "7882a72a-582f-46f7-ef70-da903121c72d"
      },
      "source": [
        "avengers_ratings = [8.1, 7.3, 8.5, 8.8]\n",
        "recommendations = [i for i in avengers_ratings if i >= 8]\n",
        "print(recommendations)"
      ],
      "execution_count": 63,
      "outputs": [
        {
          "output_type": "stream",
          "text": [
            "[8.1, 8.5, 8.8]\n"
          ],
          "name": "stdout"
        }
      ]
    },
    {
      "cell_type": "code",
      "metadata": {
        "id": "4FDf7JDe3Voi",
        "colab_type": "code",
        "colab": {
          "base_uri": "https://localhost:8080/",
          "height": 84
        },
        "outputId": "b916655a-53eb-416a-d757-047476629044"
      },
      "source": [
        "avengers = [\"The Avengers\", \"Avengers: Age of Ultron\", \"Avengers: Infinity War\", \"Avengers: Endgame\"]\n",
        "for i, val in enumerate(avengers):\n",
        "    print(\"第 {} 部上映的復仇者聯盟是：{}\".format(i+1, val))"
      ],
      "execution_count": 64,
      "outputs": [
        {
          "output_type": "stream",
          "text": [
            "第 1 部上映的復仇者聯盟是：The Avengers\n",
            "第 2 部上映的復仇者聯盟是：Avengers: Age of Ultron\n",
            "第 3 部上映的復仇者聯盟是：Avengers: Infinity War\n",
            "第 4 部上映的復仇者聯盟是：Avengers: Endgame\n"
          ],
          "name": "stdout"
        }
      ]
    },
    {
      "cell_type": "code",
      "metadata": {
        "id": "cZhTguKC3bSk",
        "colab_type": "code",
        "colab": {
          "base_uri": "https://localhost:8080/",
          "height": 84
        },
        "outputId": "2e655461-f1a1-4842-b0a3-336d5793fbbf"
      },
      "source": [
        "years = [2012, 2015, 2018, 2019]\n",
        "avengers = [\"The Avengers\", \"Avengers: Age of Ultron\", \"Avengers: Infinity War\", \"Avengers: Endgame\"]\n",
        "for y, m, i in zip(years, avengers, range(4)):\n",
        "    print(\"第 {} 部復仇者聯盟：{} 上映年份為 {}\".format(i+1, m, y))"
      ],
      "execution_count": 65,
      "outputs": [
        {
          "output_type": "stream",
          "text": [
            "第 1 部復仇者聯盟：The Avengers 上映年份為 2012\n",
            "第 2 部復仇者聯盟：Avengers: Age of Ultron 上映年份為 2015\n",
            "第 3 部復仇者聯盟：Avengers: Infinity War 上映年份為 2018\n",
            "第 4 部復仇者聯盟：Avengers: Endgame 上映年份為 2019\n"
          ],
          "name": "stdout"
        }
      ]
    },
    {
      "cell_type": "code",
      "metadata": {
        "id": "cCjFbFGB4BmW",
        "colab_type": "code",
        "colab": {
          "base_uri": "https://localhost:8080/",
          "height": 34
        },
        "outputId": "d8f0f8b6-58e4-4a00-d243-3ccd4b966ddc"
      },
      "source": [
        "from random import sample\n",
        "\n",
        "sampling_times = 0\n",
        "while True:\n",
        "    sample_num = sample(range(1, 1001), 1)[0]\n",
        "    sampling_times += 1\n",
        "    if sample_num % 56 == 0:\n",
        "        break\n",
        "print(sampling_times)"
      ],
      "execution_count": 66,
      "outputs": [
        {
          "output_type": "stream",
          "text": [
            "13\n"
          ],
          "name": "stdout"
        }
      ]
    },
    {
      "cell_type": "code",
      "metadata": {
        "id": "wLctgFDA4FwB",
        "colab_type": "code",
        "colab": {}
      },
      "source": [
        ""
      ],
      "execution_count": 0,
      "outputs": []
    }
  ]
}