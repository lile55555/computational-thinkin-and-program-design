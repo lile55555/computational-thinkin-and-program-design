{
  "nbformat": 4,
  "nbformat_minor": 0,
  "metadata": {
    "colab": {
      "name": "week7",
      "provenance": [],
      "toc_visible": true,
      "authorship_tag": "ABX9TyO/3mCuV6sXsSHQ7XqHjU78",
      "include_colab_link": true
    },
    "kernelspec": {
      "name": "python3",
      "display_name": "Python 3"
    }
  },
  "cells": [
    {
      "cell_type": "markdown",
      "metadata": {
        "id": "view-in-github",
        "colab_type": "text"
      },
      "source": [
        "<a href=\"https://colab.research.google.com/github/lile55555/computational-thinkin-and-program-design/blob/master/week7.ipynb\" target=\"_parent\"><img src=\"https://colab.research.google.com/assets/colab-badge.svg\" alt=\"Open In Colab\"/></a>"
      ]
    },
    {
      "cell_type": "markdown",
      "metadata": {
        "id": "QWjwqUT9ROCY",
        "colab_type": "text"
      },
      "source": [
        "#**Week7 Homework** "
      ]
    },
    {
      "cell_type": "code",
      "metadata": {
        "id": "L0hQ1PZagNk3",
        "colab_type": "code",
        "colab": {
          "base_uri": "https://localhost:8080/",
          "height": 101
        },
        "outputId": "8ba449d4-e453-42b9-9806-c46517de0739"
      },
      "source": [
        "#1月薪大於四萬,存款小於五十萬,是否發信用卡\n",
        "monthly_income = input(\"請輸入月薪：\")\n",
        "saving_account = input(\"請輸入存款：\")\n",
        "monthly_income = int(monthly_income)\n",
        "saving_account = int(saving_account)\n",
        "print(type(monthly_income))\n",
        "print(type(saving_account))\n",
        "ans = \"\"\n",
        "# 條件判斷(begin)\n",
        "if monthly_income > 40000:\n",
        "    ans = \"發信用卡\"\n",
        "if saving_account > 500000:\n",
        "    ans = \"發信用卡\"\n",
        "# 條件判斷(end)\n",
        "print(ans)"
      ],
      "execution_count": 22,
      "outputs": [
        {
          "output_type": "stream",
          "text": [
            "請輸入月薪：39999\n",
            "請輸入存款：5000\n",
            "<class 'int'>\n",
            "<class 'int'>\n",
            "\n"
          ],
          "name": "stdout"
        }
      ]
    },
    {
      "cell_type": "code",
      "metadata": {
        "id": "kn-ntqRNfTwo",
        "colab_type": "code",
        "colab": {
          "base_uri": "https://localhost:8080/",
          "height": 67
        },
        "outputId": "ee09d301-4a4f-41c7-fd6c-fccc62cc2cf0"
      },
      "source": [
        "monthly_income = input(\"請輸入月薪：\")\n",
        "saving_account = input(\"請輸入存款：\")\n",
        "monthly_income = int(monthly_income)\n",
        "saving_account = int(saving_account)\n",
        "\n",
        "print(monthly_income > 40000 and saving_account > 500000)"
      ],
      "execution_count": 21,
      "outputs": [
        {
          "output_type": "stream",
          "text": [
            "請輸入月薪：35000\n",
            "請輸入存款：20000\n",
            "False\n"
          ],
          "name": "stdout"
        }
      ]
    },
    {
      "cell_type": "code",
      "metadata": {
        "id": "yJky2YjZgad3",
        "colab_type": "code",
        "colab": {
          "base_uri": "https://localhost:8080/",
          "height": 101
        },
        "outputId": "799f8f66-190e-4652-a603-a82ee3172c79"
      },
      "source": [
        "monthly_income = input(\"請輸入月薪：\")\n",
        "saving_account = input(\"請輸入存款：\")\n",
        "monthly_income = int(monthly_income)\n",
        "saving_account = int(saving_account)\n",
        "print(type(monthly_income))\n",
        "print(type(saving_account))\n",
        "ans = \"\"\n",
        "# 條件判斷(begin)\n",
        "if monthly_income > 40000 or saving_account > 500000:\n",
        "    ans = \"發信用卡\"\n",
        "# 條件判斷(end)\n",
        "print(ans)"
      ],
      "execution_count": 24,
      "outputs": [
        {
          "output_type": "stream",
          "text": [
            "請輸入月薪：45000\n",
            "請輸入存款：10000\n",
            "<class 'int'>\n",
            "<class 'int'>\n",
            "發信用卡\n"
          ],
          "name": "stdout"
        }
      ]
    },
    {
      "cell_type": "code",
      "metadata": {
        "id": "_rboDFoxgwbi",
        "colab_type": "code",
        "colab": {
          "base_uri": "https://localhost:8080/",
          "height": 50
        },
        "outputId": "6d8e09f9-dadb-49c9-9b33-37b6477e6f1a"
      },
      "source": [
        "#2輸入正整數判斷是奇數或偶數\n",
        "user_int = input(\"請輸入一個正整數：\")\n",
        "user_int = int(user_int)\n",
        "if user_int % 2 == 0:\n",
        "    ans = \"偶數\"\n",
        "else:\n",
        "    ans = \"奇數\"\n",
        "print(ans)"
      ],
      "execution_count": 25,
      "outputs": [
        {
          "output_type": "stream",
          "text": [
            "請輸入一個正整數：5566\n",
            "偶數\n"
          ],
          "name": "stdout"
        }
      ]
    },
    {
      "cell_type": "code",
      "metadata": {
        "id": "2gNJcB1Fg8hV",
        "colab_type": "code",
        "colab": {
          "base_uri": "https://localhost:8080/",
          "height": 50
        },
        "outputId": "98ff022b-8dbd-4b9b-e01e-d62b7ad6374a"
      },
      "source": [
        "user_int = input(\"請輸入一個正整數：\")\n",
        "user_int = int(user_int)\n",
        "if user_int % 2 == 0:\n",
        "    ans = \"偶數\"\n",
        "else:\n",
        "    ans = \"奇數\"\n",
        "print(ans)"
      ],
      "execution_count": 26,
      "outputs": [
        {
          "output_type": "stream",
          "text": [
            "請輸入一個正整數：87\n",
            "奇數\n"
          ],
          "name": "stdout"
        }
      ]
    },
    {
      "cell_type": "code",
      "metadata": {
        "id": "TreoON3og_7l",
        "colab_type": "code",
        "colab": {
          "base_uri": "https://localhost:8080/",
          "height": 50
        },
        "outputId": "4e34267c-3633-4f14-9aee-34589994f281"
      },
      "source": [
        "#3身分證尾數判斷幾號領口罩\n",
        "id_last_digit = input(\"請輸入身分證字號的尾數：\")\n",
        "id_last_digit = int(id_last_digit)\n",
        "if id_last_digit % 2 == 0:\n",
        "    ans = \"星期二四六日領\"\n",
        "else:\n",
        "    ans = \"星期一三五日領\"\n",
        "print(ans)"
      ],
      "execution_count": 27,
      "outputs": [
        {
          "output_type": "stream",
          "text": [
            "請輸入身分證字號的尾數：6\n",
            "星期二四六日領\n"
          ],
          "name": "stdout"
        }
      ]
    },
    {
      "cell_type": "code",
      "metadata": {
        "id": "kxdTa3kAhGQT",
        "colab_type": "code",
        "colab": {
          "base_uri": "https://localhost:8080/",
          "height": 50
        },
        "outputId": "c3785a9d-8fcc-461a-d1d7-1b482cb28213"
      },
      "source": [
        "id_last_digit = input(\"請輸入身分證字號的尾數：\")\n",
        "id_last_digit = int(id_last_digit)\n",
        "if id_last_digit % 2 == 0:\n",
        "    ans = \"星期二四六日領\"\n",
        "else:\n",
        "    ans = \"星期一三五日領\"\n",
        "print(ans)"
      ],
      "execution_count": 28,
      "outputs": [
        {
          "output_type": "stream",
          "text": [
            "請輸入身分證字號的尾數：1\n",
            "星期一三五日領\n"
          ],
          "name": "stdout"
        }
      ]
    },
    {
      "cell_type": "code",
      "metadata": {
        "id": "wMYY07jXhPWT",
        "colab_type": "code",
        "colab": {
          "base_uri": "https://localhost:8080/",
          "height": 67
        },
        "outputId": "60bb1639-89d1-41d3-8dd5-b1a871ebe966"
      },
      "source": [
        "#4判斷BMI的類別標籤\n",
        "input_height = float(input(\"請輸入身高（公分）：\"))\n",
        "input_weight = float(input(\"請輸入體重（公斤）：\"))\n",
        "bmi = input_weight / (input_height*0.01)**2\n",
        "if bmi > 30:\n",
        "    label = \"Obese\"\n",
        "elif bmi > 25 and bmi <= 30:\n",
        "    label = \"Overweight\"\n",
        "elif bmi > 18.5:\n",
        "    label = \"Normal weight\"\n",
        "else:\n",
        "    label = \"Underweight\"\n",
        "print(label)"
      ],
      "execution_count": 29,
      "outputs": [
        {
          "output_type": "stream",
          "text": [
            "請輸入身高（公分）：166\n",
            "請輸入體重（公斤）：68\n",
            "Normal weight\n"
          ],
          "name": "stdout"
        }
      ]
    },
    {
      "cell_type": "code",
      "metadata": {
        "id": "rFVX3r8RiCcy",
        "colab_type": "code",
        "colab": {
          "base_uri": "https://localhost:8080/",
          "height": 50
        },
        "outputId": "d84c6cf3-cf74-495c-8766-7b8e6017fc79"
      },
      "source": [
        "#作業\n",
        "user_int = int(input(\"請輸入一個正整數:\"))\n",
        "if user_int % 15 == 0:\n",
        "    print(\"Fizz Buzz\")\n",
        "elif user_int % 5 == 0:\n",
        "    print(\"Buzz\")\n",
        "elif user_int % 3 == 0:\n",
        "    print(\"Fizz\")\n",
        "else:\n",
        "    print(user_int)"
      ],
      "execution_count": 30,
      "outputs": [
        {
          "output_type": "stream",
          "text": [
            "請輸入一個正整數:66\n",
            "Fizz\n"
          ],
          "name": "stdout"
        }
      ]
    },
    {
      "cell_type": "code",
      "metadata": {
        "id": "qzS4KY4uieoR",
        "colab_type": "code",
        "colab": {}
      },
      "source": [
        ""
      ],
      "execution_count": 0,
      "outputs": []
    }
  ]
}