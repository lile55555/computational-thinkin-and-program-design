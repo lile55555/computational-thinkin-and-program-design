{
  "nbformat": 4,
  "nbformat_minor": 0,
  "metadata": {
    "colab": {
      "name": "Untitled5.ipynb",
      "provenance": [],
      "toc_visible": true,
      "authorship_tag": "ABX9TyMsUmzAhDPxeh2U0NKg3Ja5",
      "include_colab_link": true
    },
    "kernelspec": {
      "name": "python3",
      "display_name": "Python 3"
    }
  },
  "cells": [
    {
      "cell_type": "markdown",
      "metadata": {
        "id": "view-in-github",
        "colab_type": "text"
      },
      "source": [
        "<a href=\"https://colab.research.google.com/github/lile55555/computational-thinkin-and-program-design/blob/master/week3%20.ipynb\" target=\"_parent\"><img src=\"https://colab.research.google.com/assets/colab-badge.svg\" alt=\"Open In Colab\"/></a>"
      ]
    },
    {
      "cell_type": "markdown",
      "metadata": {
        "id": "QWjwqUT9ROCY",
        "colab_type": "text"
      },
      "source": [
        "#**Week3 Homework** "
      ]
    },
    {
      "cell_type": "code",
      "metadata": {
        "id": "NSbXnMRGTYXY",
        "colab_type": "code",
        "colab": {
          "base_uri": "https://localhost:8080/",
          "height": 118
        },
        "outputId": "f310b8c0-c20b-441d-8dc7-9093f4eee317"
      },
      "source": [
        "movie_title = \"Avengers: Endgame\"\n",
        "movie_time = 181\n",
        "movie_rating = 8.4\n",
        "\n",
        "print(movie_title)\n",
        "print(movie_time)\n",
        "print(movie_rating)\n",
        "\n",
        "print(type(movie_title))\n",
        "print(type(movie_time))\n",
        "print(type(movie_rating))"
      ],
      "execution_count": 6,
      "outputs": [
        {
          "output_type": "stream",
          "text": [
            "Avengers: Endgame\n",
            "181\n",
            "8.4\n",
            "<class 'str'>\n",
            "<class 'int'>\n",
            "<class 'float'>\n"
          ],
          "name": "stdout"
        }
      ]
    },
    {
      "cell_type": "code",
      "metadata": {
        "id": "20TuAegxTeBq",
        "colab_type": "code",
        "colab": {}
      },
      "source": [
        ""
      ],
      "execution_count": 0,
      "outputs": []
    }
  ]
}