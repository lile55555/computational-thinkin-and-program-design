{
  "nbformat": 4,
  "nbformat_minor": 0,
  "metadata": {
    "colab": {
      "name": "week4",
      "provenance": [],
      "toc_visible": true,
      "authorship_tag": "ABX9TyPeMrU77DtAj9Bt9inQh78L",
      "include_colab_link": true
    },
    "kernelspec": {
      "name": "python3",
      "display_name": "Python 3"
    }
  },
  "cells": [
    {
      "cell_type": "markdown",
      "metadata": {
        "id": "view-in-github",
        "colab_type": "text"
      },
      "source": [
        "<a href=\"https://colab.research.google.com/github/lile55555/computational-thinkin-and-program-design/blob/master/week4.ipynb\" target=\"_parent\"><img src=\"https://colab.research.google.com/assets/colab-badge.svg\" alt=\"Open In Colab\"/></a>"
      ]
    },
    {
      "cell_type": "markdown",
      "metadata": {
        "id": "QWjwqUT9ROCY",
        "colab_type": "text"
      },
      "source": [
        "#**Week4 Homework** "
      ]
    },
    {
      "cell_type": "code",
      "metadata": {
        "id": "20TuAegxTeBq",
        "colab_type": "code",
        "colab": {
          "base_uri": "https://localhost:8080/",
          "height": 34
        },
        "outputId": "f346d33e-1ccc-43c5-f7ec-20573550e23e"
      },
      "source": [
        "#1 溫度轉換\n",
        "current_celsius = 28\n",
        "current_fahrenheit = current_celsius * 9 / 5 + 32\n",
        "print(current_fahrenheit)"
      ],
      "execution_count": 7,
      "outputs": [
        {
          "output_type": "stream",
          "text": [
            "82.4\n"
          ],
          "name": "stdout"
        }
      ]
    },
    {
      "cell_type": "code",
      "metadata": {
        "id": "JRsKn-CxVIO3",
        "colab_type": "code",
        "colab": {
          "base_uri": "https://localhost:8080/",
          "height": 34
        },
        "outputId": "b2e6e5de-0c9b-402c-a12d-c251fa4b6810"
      },
      "source": [
        "current_celsius = 27\n",
        "current_fahrenheit = current_celsius * 9 / 5 + 32\n",
        "print(current_fahrenheit)"
      ],
      "execution_count": 8,
      "outputs": [
        {
          "output_type": "stream",
          "text": [
            "80.6\n"
          ],
          "name": "stdout"
        }
      ]
    },
    {
      "cell_type": "code",
      "metadata": {
        "id": "Nnou9LC_VJ-1",
        "colab_type": "code",
        "colab": {
          "base_uri": "https://localhost:8080/",
          "height": 67
        },
        "outputId": "b3cef9d8-49d0-4fec-8fc1-e0d93969d155"
      },
      "source": [
        "#2 Shaquille O'Neal BMI\n",
        "player_height = float(input(\"Shaquille O'Neal身高(公尺):\"))\n",
        "player_weight = float(input(\"Shaquille O'Neal體重(公斤):\"))\n",
        "player_bmi = player_weight / player_height**2\n",
        "print(player_bmi)"
      ],
      "execution_count": 14,
      "outputs": [
        {
          "output_type": "stream",
          "text": [
            "Shaquille O'Neal身高(公尺):216\n",
            "Shaquille O'Neal體重(公斤):147\n",
            "0.0031507201646090535\n"
          ],
          "name": "stdout"
        }
      ]
    },
    {
      "cell_type": "code",
      "metadata": {
        "id": "EFHj2LV_Vo2f",
        "colab_type": "code",
        "colab": {
          "base_uri": "https://localhost:8080/",
          "height": 34
        },
        "outputId": "353422ed-7432-4e8c-a81d-66e17a3d79f8"
      },
      "source": [
        "#3 what did Ross say\n",
        "ross_said = \"\"\"Let's put aside the fact that you \"accidentally\" pick up my grandmother's ring.\"\"\"\n",
        "print(ross_said)"
      ],
      "execution_count": 9,
      "outputs": [
        {
          "output_type": "stream",
          "text": [
            "Let's put aside the fact that you \"accidentally\" pick up my grandmother's ring.\n"
          ],
          "name": "stdout"
        }
      ]
    },
    {
      "cell_type": "code",
      "metadata": {
        "id": "JjstpZwzW-O1",
        "colab_type": "code",
        "colab": {
          "base_uri": "https://localhost:8080/",
          "height": 67
        },
        "outputId": "70d2e4c7-bf11-430a-e3d0-dcfbec056be7"
      },
      "source": [
        "#4 我在...天氣...\n",
        "city = input(\"city:\")\n",
        "weather = input(\"weather:\")\n",
        "print(\"I'm in {}，weather is {}\".format(city, weather))"
      ],
      "execution_count": 13,
      "outputs": [
        {
          "output_type": "stream",
          "text": [
            "city:Taipei\n",
            "weather:rainning\n",
            "I'm in Taipei，weather is rainning\n"
          ],
          "name": "stdout"
        }
      ]
    },
    {
      "cell_type": "code",
      "metadata": {
        "id": "_o_V2h58XNBA",
        "colab_type": "code",
        "colab": {
          "base_uri": "https://localhost:8080/",
          "height": 84
        },
        "outputId": "4acdbdab-2f72-43b0-a07e-00d9943b4a58"
      },
      "source": [
        "#5 player overwight determine\n",
        "player_height = float(input(\"請輸入球員身高(公尺):\"))\n",
        "player_weight = float(input(\"請輸入球員體重(公斤):\"))\n",
        "player_bmi = player_weight / player_height**2\n",
        "bmi_label = None\n",
        "if player_bmi > 30:\n",
        "    bmi_label = 'Obese'\n",
        "if player_bmi <= 30 and player_bmi > 25:\n",
        "    bmi_label = 'Overweight'\n",
        "if player_bmi <= 25 and player_bmi > 18.5:\n",
        "    bmi_label = 'Normal weight'\n",
        "if player_bmi <= 18.5:\n",
        "    bmi_label = 'Underweight'\n",
        "print(player_bmi)\n",
        "print(bmi_label)"
      ],
      "execution_count": 16,
      "outputs": [
        {
          "output_type": "stream",
          "text": [
            "請輸入球員身高(公尺):1.88\n",
            "請輸入球員體重(公斤):90\n",
            "25.46401086464464\n",
            "Overweight\n"
          ],
          "name": "stdout"
        }
      ]
    },
    {
      "cell_type": "code",
      "metadata": {
        "id": "pPLBmuGGZdyY",
        "colab_type": "code",
        "colab": {}
      },
      "source": [
        ""
      ],
      "execution_count": 0,
      "outputs": []
    }
  ]
}