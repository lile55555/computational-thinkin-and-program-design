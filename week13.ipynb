{
  "nbformat": 4,
  "nbformat_minor": 0,
  "metadata": {
    "colab": {
      "name": "week13",
      "provenance": [],
      "toc_visible": true,
      "authorship_tag": "ABX9TyNSBUbDKQ5obTxnBWeIQmsE",
      "include_colab_link": true
    },
    "kernelspec": {
      "name": "python3",
      "display_name": "Python 3"
    }
  },
  "cells": [
    {
      "cell_type": "markdown",
      "metadata": {
        "id": "view-in-github",
        "colab_type": "text"
      },
      "source": [
        "<a href=\"https://colab.research.google.com/github/lile55555/computational-thinkin-and-program-design/blob/master/week13.ipynb\" target=\"_parent\"><img src=\"https://colab.research.google.com/assets/colab-badge.svg\" alt=\"Open In Colab\"/></a>"
      ]
    },
    {
      "cell_type": "markdown",
      "metadata": {
        "id": "QWjwqUT9ROCY",
        "colab_type": "text"
      },
      "source": [
        "#**Week13 Homework** "
      ]
    },
    {
      "cell_type": "code",
      "metadata": {
        "id": "PgdOMdbf4teE",
        "colab_type": "code",
        "colab": {
          "base_uri": "https://localhost:8080/",
          "height": 118
        },
        "outputId": "b1f47ee3-db89-420f-dfaf-b5d79efab052"
      },
      "source": [
        "# Define\n",
        "def get_fahrenheit(x):\n",
        "    \"\"\"\n",
        "    轉換攝氏氣溫為華氏氣溫\n",
        "    \"\"\"\n",
        "    return x*9/5 + 32\n",
        "# Use\n",
        "help(get_fahrenheit)\n",
        "print(get_fahrenheit(20))"
      ],
      "execution_count": 67,
      "outputs": [
        {
          "output_type": "stream",
          "text": [
            "Help on function get_fahrenheit in module __main__:\n",
            "\n",
            "get_fahrenheit(x)\n",
            "    轉換攝氏氣溫為華氏氣溫\n",
            "\n",
            "68.0\n"
          ],
          "name": "stdout"
        }
      ]
    },
    {
      "cell_type": "code",
      "metadata": {
        "id": "ZajVKW7s4uNf",
        "colab_type": "code",
        "colab": {
          "base_uri": "https://localhost:8080/",
          "height": 151
        },
        "outputId": "e698d9c4-d02f-44aa-ed58-34dd3d9d7e8e"
      },
      "source": [
        "# Define\n",
        "def get_bmi(height, weight):\n",
        "    \"\"\"\n",
        "    依據身高、體重計算 BMI 身體質量指數\n",
        "    身高：以公分（cm）為單位\n",
        "    體重：以公斤（kg）為單位\n",
        "    \"\"\"\n",
        "    bmi = weight / (height/100)**2\n",
        "    return bmi\n",
        "# Use\n",
        "help(get_bmi)\n",
        "print(get_bmi(172, 62))"
      ],
      "execution_count": 68,
      "outputs": [
        {
          "output_type": "stream",
          "text": [
            "Help on function get_bmi in module __main__:\n",
            "\n",
            "get_bmi(height, weight)\n",
            "    依據身高、體重計算 BMI 身體質量指數\n",
            "    身高：以公分（cm）為單位\n",
            "    體重：以公斤（kg）為單位\n",
            "\n",
            "20.9572742022715\n"
          ],
          "name": "stdout"
        }
      ]
    },
    {
      "cell_type": "code",
      "metadata": {
        "id": "wea-OSCt42kl",
        "colab_type": "code",
        "colab": {
          "base_uri": "https://localhost:8080/",
          "height": 134
        },
        "outputId": "fd3baaa9-675d-489b-eefe-c2d982879417"
      },
      "source": [
        "# Define\n",
        "def is_prime(x):\n",
        "    \"\"\"\n",
        "    判斷輸入的正整數 x 是否為質數\n",
        "    \"\"\"\n",
        "    divisor_cnt, i = 0, 1\n",
        "    while i <= x:\n",
        "        if x % i == 0:\n",
        "            divisor_cnt += 1\n",
        "        if divisor_cnt > 2:\n",
        "            break\n",
        "        i += 1\n",
        "    return divisor_cnt == 2\n",
        "# Use\n",
        "help(is_prime)\n",
        "print(is_prime(87))\n",
        "print(is_prime(89))"
      ],
      "execution_count": 69,
      "outputs": [
        {
          "output_type": "stream",
          "text": [
            "Help on function is_prime in module __main__:\n",
            "\n",
            "is_prime(x)\n",
            "    判斷輸入的正整數 x 是否為質數\n",
            "\n",
            "False\n",
            "True\n"
          ],
          "name": "stdout"
        }
      ]
    },
    {
      "cell_type": "code",
      "metadata": {
        "id": "RX0tVBib46aH",
        "colab_type": "code",
        "colab": {
          "base_uri": "https://localhost:8080/",
          "height": 118
        },
        "outputId": "2fda3d31-6a52-4cf6-a4ec-c68af7997725"
      },
      "source": [
        "# Define\n",
        "def get_circle_area(r):\n",
        "    \"\"\"\n",
        "    依據半徑計算圓形面積\n",
        "    \"\"\"\n",
        "    pi = 3.14156\n",
        "    return pi*r**2\n",
        "# Use\n",
        "help(get_circle_area)\n",
        "print(get_circle_area(3))"
      ],
      "execution_count": 70,
      "outputs": [
        {
          "output_type": "stream",
          "text": [
            "Help on function get_circle_area in module __main__:\n",
            "\n",
            "get_circle_area(r)\n",
            "    依據半徑計算圓形面積\n",
            "\n",
            "28.27404\n"
          ],
          "name": "stdout"
        }
      ]
    },
    {
      "cell_type": "code",
      "metadata": {
        "id": "esL8lUOs49R1",
        "colab_type": "code",
        "colab": {}
      },
      "source": [
        ""
      ],
      "execution_count": 0,
      "outputs": []
    }
  ]
}